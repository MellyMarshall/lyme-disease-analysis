{
 "cells": [
  {
   "cell_type": "code",
   "execution_count": 4,
   "metadata": {},
   "outputs": [],
   "source": [
    "import pandas as pd\n",
    "import numpy as np\n",
    "import matplotlib.pyplot as plt\n",
    "import seaborn as sns"
   ]
  },
  {
   "cell_type": "code",
   "execution_count": 5,
   "metadata": {},
   "outputs": [],
   "source": [
    "age = pd.read_csv('../CSV Data/age.csv')\n",
    "county = pd.read_csv('../CSV Data/ldbycounty.csv')\n",
    "annualreported = pd.read_csv('../CSV Data/annualreported.csv')"
   ]
  },
  {
   "cell_type": "markdown",
   "metadata": {},
   "source": [
    "Objective:\n",
    "1.) which age group is LD most prevalent in?\n",
    "\n",
    "2.) what is the increase rate of Lyme Disease in USA? was there a large increase from 2000 to 2018?\n"
   ]
  },
  {
   "cell_type": "markdown",
   "metadata": {},
   "source": [
    "The data is real world data taken from cdc.com and contains three files:\n",
    "reported case files : Contains main eight sectors and their sub sectors.\n",
    "Annual reported cases: Contains notifiable diseases and rates per 100,000.\n",
    "annual cases by age: contains lyme disease count by age and month"
   ]
  },
  {
   "cell_type": "code",
   "execution_count": 6,
   "metadata": {},
   "outputs": [
    {
     "data": {
      "text/html": [
       "<div>\n",
       "<style scoped>\n",
       "    .dataframe tbody tr th:only-of-type {\n",
       "        vertical-align: middle;\n",
       "    }\n",
       "\n",
       "    .dataframe tbody tr th {\n",
       "        vertical-align: top;\n",
       "    }\n",
       "\n",
       "    .dataframe thead th {\n",
       "        text-align: right;\n",
       "    }\n",
       "</style>\n",
       "<table border=\"1\" class=\"dataframe\">\n",
       "  <thead>\n",
       "    <tr style=\"text-align: right;\">\n",
       "      <th></th>\n",
       "      <th>Disease</th>\n",
       "      <th>&lt;1 yr, No.</th>\n",
       "      <th>&lt;1 yr, Rate</th>\n",
       "      <th>1-4 yrs, No.</th>\n",
       "      <th>1-4 yrs, Rate</th>\n",
       "      <th>5-14 yrs, No.</th>\n",
       "      <th>5-14 yrs, Rate</th>\n",
       "      <th>15-24 yrs, No.</th>\n",
       "      <th>15-24 yrs, Rate</th>\n",
       "      <th>25-39 yrs, No.</th>\n",
       "      <th>25-39 yrs, Rate</th>\n",
       "      <th>40-64 yrs, No.</th>\n",
       "      <th>40-64 yrs, Rate</th>\n",
       "      <th>&gt;=65 yrs, No.</th>\n",
       "      <th>&gt;=65 yrs, Rate</th>\n",
       "      <th>Age not stated, No.</th>\n",
       "      <th>Total, No.</th>\n",
       "    </tr>\n",
       "  </thead>\n",
       "  <tbody>\n",
       "    <tr>\n",
       "      <th>0</th>\n",
       "      <td>Anthrax</td>\n",
       "      <td>0</td>\n",
       "      <td>0</td>\n",
       "      <td>0</td>\n",
       "      <td>0</td>\n",
       "      <td>0</td>\n",
       "      <td>0</td>\n",
       "      <td>0</td>\n",
       "      <td>0</td>\n",
       "      <td>1</td>\n",
       "      <td>0</td>\n",
       "      <td>0</td>\n",
       "      <td>0</td>\n",
       "      <td>0</td>\n",
       "      <td>0</td>\n",
       "      <td>0</td>\n",
       "      <td>1</td>\n",
       "    </tr>\n",
       "    <tr>\n",
       "      <th>1</th>\n",
       "      <td>Arboviral diseases, Chikungunya virus disease</td>\n",
       "      <td>1</td>\n",
       "      <td>0.03</td>\n",
       "      <td>2</td>\n",
       "      <td>0.01</td>\n",
       "      <td>8</td>\n",
       "      <td>0.02</td>\n",
       "      <td>9</td>\n",
       "      <td>0.02</td>\n",
       "      <td>41</td>\n",
       "      <td>0.06</td>\n",
       "      <td>45</td>\n",
       "      <td>0.04</td>\n",
       "      <td>11</td>\n",
       "      <td>0.02</td>\n",
       "      <td>0</td>\n",
       "      <td>117</td>\n",
       "    </tr>\n",
       "    <tr>\n",
       "      <th>2</th>\n",
       "      <td>Arboviral diseases, Eastern equine encephaliti...</td>\n",
       "      <td>0</td>\n",
       "      <td>0</td>\n",
       "      <td>0</td>\n",
       "      <td>0</td>\n",
       "      <td>0</td>\n",
       "      <td>0</td>\n",
       "      <td>0</td>\n",
       "      <td>0</td>\n",
       "      <td>0</td>\n",
       "      <td>0</td>\n",
       "      <td>3</td>\n",
       "      <td>0</td>\n",
       "      <td>3</td>\n",
       "      <td>0.01</td>\n",
       "      <td>0</td>\n",
       "      <td>6</td>\n",
       "    </tr>\n",
       "    <tr>\n",
       "      <th>3</th>\n",
       "      <td>Arboviral diseases, Eastern equine encephaliti...</td>\n",
       "      <td>0</td>\n",
       "      <td>0</td>\n",
       "      <td>0</td>\n",
       "      <td>0</td>\n",
       "      <td>0</td>\n",
       "      <td>0</td>\n",
       "      <td>0</td>\n",
       "      <td>0</td>\n",
       "      <td>0</td>\n",
       "      <td>0</td>\n",
       "      <td>0</td>\n",
       "      <td>0</td>\n",
       "      <td>0</td>\n",
       "      <td>0</td>\n",
       "      <td>0</td>\n",
       "      <td>0</td>\n",
       "    </tr>\n",
       "    <tr>\n",
       "      <th>4</th>\n",
       "      <td>Arboviral diseases, Jamestown Canyon  virus di...</td>\n",
       "      <td>0</td>\n",
       "      <td>0</td>\n",
       "      <td>0</td>\n",
       "      <td>0</td>\n",
       "      <td>0</td>\n",
       "      <td>0</td>\n",
       "      <td>4</td>\n",
       "      <td>0.01</td>\n",
       "      <td>4</td>\n",
       "      <td>0.01</td>\n",
       "      <td>10</td>\n",
       "      <td>0.01</td>\n",
       "      <td>7</td>\n",
       "      <td>0.01</td>\n",
       "      <td>0</td>\n",
       "      <td>25</td>\n",
       "    </tr>\n",
       "  </tbody>\n",
       "</table>\n",
       "</div>"
      ],
      "text/plain": [
       "                                             Disease <1 yr, No. <1 yr, Rate  \\\n",
       "0                                           Anthrax           0           0   \n",
       "1     Arboviral diseases, Chikungunya virus disease           1        0.03   \n",
       "2  Arboviral diseases, Eastern equine encephaliti...          0           0   \n",
       "3  Arboviral diseases, Eastern equine encephaliti...          0           0   \n",
       "4  Arboviral diseases, Jamestown Canyon  virus di...          0           0   \n",
       "\n",
       "  1-4 yrs, No. 1-4 yrs, Rate 5-14 yrs, No. 5-14 yrs, Rate 15-24 yrs, No.  \\\n",
       "0            0             0             0              0              0   \n",
       "1            2          0.01             8           0.02              9   \n",
       "2            0             0             0              0              0   \n",
       "3            0             0             0              0              0   \n",
       "4            0             0             0              0              4   \n",
       "\n",
       "  15-24 yrs, Rate 25-39 yrs, No. 25-39 yrs, Rate 40-64 yrs, No.  \\\n",
       "0               0              1               0              0   \n",
       "1            0.02             41            0.06             45   \n",
       "2               0              0               0              3   \n",
       "3               0              0               0              0   \n",
       "4            0.01              4            0.01             10   \n",
       "\n",
       "  40-64 yrs, Rate >=65 yrs, No. >=65 yrs, Rate Age not stated, No. Total, No.  \n",
       "0               0             0              0                   0          1  \n",
       "1            0.04            11           0.02                   0        117  \n",
       "2               0             3           0.01                   0          6  \n",
       "3               0             0              0                   0          0  \n",
       "4            0.01             7           0.01                   0         25  "
      ]
     },
     "execution_count": 6,
     "metadata": {},
     "output_type": "execute_result"
    }
   ],
   "source": [
    "age.head()"
   ]
  },
  {
   "cell_type": "code",
   "execution_count": 7,
   "metadata": {
    "scrolled": false
   },
   "outputs": [
    {
     "data": {
      "text/html": [
       "<div>\n",
       "<style scoped>\n",
       "    .dataframe tbody tr th:only-of-type {\n",
       "        vertical-align: middle;\n",
       "    }\n",
       "\n",
       "    .dataframe tbody tr th {\n",
       "        vertical-align: top;\n",
       "    }\n",
       "\n",
       "    .dataframe thead th {\n",
       "        text-align: right;\n",
       "    }\n",
       "</style>\n",
       "<table border=\"1\" class=\"dataframe\">\n",
       "  <thead>\n",
       "    <tr style=\"text-align: right;\">\n",
       "      <th></th>\n",
       "      <th>Ctyname</th>\n",
       "      <th>Stname</th>\n",
       "      <th>STCODE</th>\n",
       "      <th>CTYCODE</th>\n",
       "      <th>Cases2000</th>\n",
       "      <th>Cases2001</th>\n",
       "      <th>Cases2002</th>\n",
       "      <th>Cases2003</th>\n",
       "      <th>Cases2004</th>\n",
       "      <th>Cases2005</th>\n",
       "      <th>...</th>\n",
       "      <th>Cases2009</th>\n",
       "      <th>Cases2010</th>\n",
       "      <th>Cases2011</th>\n",
       "      <th>Cases2012</th>\n",
       "      <th>Cases2013</th>\n",
       "      <th>Cases2014</th>\n",
       "      <th>Cases2015</th>\n",
       "      <th>Cases2016</th>\n",
       "      <th>Cases2017</th>\n",
       "      <th>Cases2018</th>\n",
       "    </tr>\n",
       "  </thead>\n",
       "  <tbody>\n",
       "    <tr>\n",
       "      <th>0</th>\n",
       "      <td>Autauga County</td>\n",
       "      <td>Alabama</td>\n",
       "      <td>1</td>\n",
       "      <td>1</td>\n",
       "      <td>0</td>\n",
       "      <td>0</td>\n",
       "      <td>0</td>\n",
       "      <td>0</td>\n",
       "      <td>0</td>\n",
       "      <td>0</td>\n",
       "      <td>...</td>\n",
       "      <td>0</td>\n",
       "      <td>0</td>\n",
       "      <td>0</td>\n",
       "      <td>0</td>\n",
       "      <td>0</td>\n",
       "      <td>0</td>\n",
       "      <td>0</td>\n",
       "      <td>2</td>\n",
       "      <td>0</td>\n",
       "      <td>0</td>\n",
       "    </tr>\n",
       "    <tr>\n",
       "      <th>1</th>\n",
       "      <td>Baldwin County</td>\n",
       "      <td>Alabama</td>\n",
       "      <td>1</td>\n",
       "      <td>3</td>\n",
       "      <td>1</td>\n",
       "      <td>0</td>\n",
       "      <td>1</td>\n",
       "      <td>0</td>\n",
       "      <td>0</td>\n",
       "      <td>0</td>\n",
       "      <td>...</td>\n",
       "      <td>1</td>\n",
       "      <td>0</td>\n",
       "      <td>1</td>\n",
       "      <td>1</td>\n",
       "      <td>0</td>\n",
       "      <td>3</td>\n",
       "      <td>1</td>\n",
       "      <td>2</td>\n",
       "      <td>2</td>\n",
       "      <td>0</td>\n",
       "    </tr>\n",
       "    <tr>\n",
       "      <th>2</th>\n",
       "      <td>Barbour County</td>\n",
       "      <td>Alabama</td>\n",
       "      <td>1</td>\n",
       "      <td>5</td>\n",
       "      <td>0</td>\n",
       "      <td>0</td>\n",
       "      <td>0</td>\n",
       "      <td>0</td>\n",
       "      <td>0</td>\n",
       "      <td>0</td>\n",
       "      <td>...</td>\n",
       "      <td>0</td>\n",
       "      <td>0</td>\n",
       "      <td>1</td>\n",
       "      <td>0</td>\n",
       "      <td>0</td>\n",
       "      <td>0</td>\n",
       "      <td>0</td>\n",
       "      <td>0</td>\n",
       "      <td>0</td>\n",
       "      <td>0</td>\n",
       "    </tr>\n",
       "    <tr>\n",
       "      <th>3</th>\n",
       "      <td>Bibb County</td>\n",
       "      <td>Alabama</td>\n",
       "      <td>1</td>\n",
       "      <td>7</td>\n",
       "      <td>0</td>\n",
       "      <td>0</td>\n",
       "      <td>0</td>\n",
       "      <td>0</td>\n",
       "      <td>0</td>\n",
       "      <td>0</td>\n",
       "      <td>...</td>\n",
       "      <td>0</td>\n",
       "      <td>0</td>\n",
       "      <td>0</td>\n",
       "      <td>0</td>\n",
       "      <td>0</td>\n",
       "      <td>1</td>\n",
       "      <td>0</td>\n",
       "      <td>0</td>\n",
       "      <td>0</td>\n",
       "      <td>1</td>\n",
       "    </tr>\n",
       "    <tr>\n",
       "      <th>4</th>\n",
       "      <td>Blount County</td>\n",
       "      <td>Alabama</td>\n",
       "      <td>1</td>\n",
       "      <td>9</td>\n",
       "      <td>0</td>\n",
       "      <td>0</td>\n",
       "      <td>0</td>\n",
       "      <td>0</td>\n",
       "      <td>0</td>\n",
       "      <td>0</td>\n",
       "      <td>...</td>\n",
       "      <td>0</td>\n",
       "      <td>0</td>\n",
       "      <td>1</td>\n",
       "      <td>0</td>\n",
       "      <td>0</td>\n",
       "      <td>0</td>\n",
       "      <td>0</td>\n",
       "      <td>0</td>\n",
       "      <td>0</td>\n",
       "      <td>2</td>\n",
       "    </tr>\n",
       "  </tbody>\n",
       "</table>\n",
       "<p>5 rows × 23 columns</p>\n",
       "</div>"
      ],
      "text/plain": [
       "          Ctyname   Stname  STCODE  CTYCODE  Cases2000  Cases2001  Cases2002  \\\n",
       "0  Autauga County  Alabama       1        1          0          0          0   \n",
       "1  Baldwin County  Alabama       1        3          1          0          1   \n",
       "2  Barbour County  Alabama       1        5          0          0          0   \n",
       "3     Bibb County  Alabama       1        7          0          0          0   \n",
       "4   Blount County  Alabama       1        9          0          0          0   \n",
       "\n",
       "   Cases2003  Cases2004  Cases2005  ...  Cases2009  Cases2010  Cases2011  \\\n",
       "0          0          0          0  ...          0          0          0   \n",
       "1          0          0          0  ...          1          0          1   \n",
       "2          0          0          0  ...          0          0          1   \n",
       "3          0          0          0  ...          0          0          0   \n",
       "4          0          0          0  ...          0          0          1   \n",
       "\n",
       "   Cases2012  Cases2013  Cases2014  Cases2015  Cases2016  Cases2017  Cases2018  \n",
       "0          0          0          0          0          2          0          0  \n",
       "1          1          0          3          1          2          2          0  \n",
       "2          0          0          0          0          0          0          0  \n",
       "3          0          0          1          0          0          0          1  \n",
       "4          0          0          0          0          0          0          2  \n",
       "\n",
       "[5 rows x 23 columns]"
      ]
     },
     "execution_count": 7,
     "metadata": {},
     "output_type": "execute_result"
    }
   ],
   "source": [
    "county.head()"
   ]
  },
  {
   "cell_type": "code",
   "execution_count": 36,
   "metadata": {},
   "outputs": [
    {
     "data": {
      "text/html": [
       "<div>\n",
       "<style scoped>\n",
       "    .dataframe tbody tr th:only-of-type {\n",
       "        vertical-align: middle;\n",
       "    }\n",
       "\n",
       "    .dataframe tbody tr th {\n",
       "        vertical-align: top;\n",
       "    }\n",
       "\n",
       "    .dataframe thead th {\n",
       "        text-align: right;\n",
       "    }\n",
       "</style>\n",
       "<table border=\"1\" class=\"dataframe\">\n",
       "  <thead>\n",
       "    <tr style=\"text-align: right;\">\n",
       "      <th></th>\n",
       "      <th>Disease</th>\n",
       "      <th>Case Count</th>\n",
       "      <th>Rate</th>\n",
       "    </tr>\n",
       "  </thead>\n",
       "  <tbody>\n",
       "    <tr>\n",
       "      <th>0</th>\n",
       "      <td>Anthrax</td>\n",
       "      <td>1</td>\n",
       "      <td>0.00</td>\n",
       "    </tr>\n",
       "    <tr>\n",
       "      <th>1</th>\n",
       "      <td>Arboviral diseases, Chikungunya virus disease</td>\n",
       "      <td>117</td>\n",
       "      <td>0.04</td>\n",
       "    </tr>\n",
       "    <tr>\n",
       "      <th>2</th>\n",
       "      <td>Arboviral diseases, Eastern equine encephaliti...</td>\n",
       "      <td>6</td>\n",
       "      <td>0.00</td>\n",
       "    </tr>\n",
       "    <tr>\n",
       "      <th>3</th>\n",
       "      <td>Arboviral diseases, Eastern equine encephaliti...</td>\n",
       "      <td>0</td>\n",
       "      <td>0.00</td>\n",
       "    </tr>\n",
       "    <tr>\n",
       "      <th>4</th>\n",
       "      <td>Arboviral diseases, Jamestown Canyon  virus di...</td>\n",
       "      <td>25</td>\n",
       "      <td>0.01</td>\n",
       "    </tr>\n",
       "  </tbody>\n",
       "</table>\n",
       "</div>"
      ],
      "text/plain": [
       "                                             Disease Case Count  Rate\n",
       "0                                           Anthrax           1  0.00\n",
       "1     Arboviral diseases, Chikungunya virus disease         117  0.04\n",
       "2  Arboviral diseases, Eastern equine encephaliti...          6  0.00\n",
       "3  Arboviral diseases, Eastern equine encephaliti...          0  0.00\n",
       "4  Arboviral diseases, Jamestown Canyon  virus di...         25  0.01"
      ]
     },
     "execution_count": 36,
     "metadata": {},
     "output_type": "execute_result"
    }
   ],
   "source": [
    "annualreported.head()"
   ]
  },
  {
   "cell_type": "markdown",
   "metadata": {},
   "source": [
    "what is Lyme Disease?"
   ]
  },
  {
   "cell_type": "markdown",
   "metadata": {},
   "source": [
    "Lyme Disease is caused by the bacterium Borrelia burgdorferi and rarely, Borrelia mayonii. It is transmitted to humans through the bite of infected blacklegged ticks. Typical symptoms include fever, headache, fatigue, and a characteristic skin rash called erythema migrans."
   ]
  },
  {
   "cell_type": "markdown",
   "metadata": {},
   "source": [
    "checking to see how many rows and columns are in each data file"
   ]
  },
  {
   "cell_type": "code",
   "execution_count": 11,
   "metadata": {},
   "outputs": [
    {
     "data": {
      "text/plain": [
       "(135, 17)"
      ]
     },
     "execution_count": 11,
     "metadata": {},
     "output_type": "execute_result"
    }
   ],
   "source": [
    "age.shape"
   ]
  },
  {
   "cell_type": "code",
   "execution_count": 13,
   "metadata": {},
   "outputs": [
    {
     "data": {
      "text/plain": [
       "(3193, 23)"
      ]
     },
     "execution_count": 13,
     "metadata": {},
     "output_type": "execute_result"
    }
   ],
   "source": [
    "county.shape\n"
   ]
  },
  {
   "cell_type": "code",
   "execution_count": 14,
   "metadata": {},
   "outputs": [
    {
     "data": {
      "text/plain": [
       "(136, 3)"
      ]
     },
     "execution_count": 14,
     "metadata": {},
     "output_type": "execute_result"
    }
   ],
   "source": [
    "annualreported.shape"
   ]
  },
  {
   "cell_type": "markdown",
   "metadata": {},
   "source": [
    "checking for any missing values"
   ]
  },
  {
   "cell_type": "code",
   "execution_count": 15,
   "metadata": {},
   "outputs": [
    {
     "data": {
      "text/plain": [
       "Disease                0\n",
       "<1 yr, No.             0\n",
       "<1 yr, Rate            0\n",
       "1-4 yrs, No.           0\n",
       "1-4 yrs, Rate          0\n",
       "5-14 yrs, No.          0\n",
       "5-14 yrs, Rate         0\n",
       "15-24 yrs, No.         0\n",
       "15-24 yrs, Rate        0\n",
       "25-39 yrs, No.         0\n",
       "25-39 yrs, Rate        0\n",
       "40-64 yrs, No.         0\n",
       "40-64 yrs, Rate        0\n",
       ">=65 yrs, No.          0\n",
       ">=65 yrs, Rate         0\n",
       "Age not stated, No.    0\n",
       "Total, No.             0\n",
       "dtype: int64"
      ]
     },
     "execution_count": 15,
     "metadata": {},
     "output_type": "execute_result"
    }
   ],
   "source": [
    "age.isnull().sum()"
   ]
  },
  {
   "cell_type": "code",
   "execution_count": 16,
   "metadata": {},
   "outputs": [
    {
     "data": {
      "text/plain": [
       "Ctyname      0\n",
       "Stname       0\n",
       "STCODE       0\n",
       "CTYCODE      0\n",
       "Cases2000    0\n",
       "Cases2001    0\n",
       "Cases2002    0\n",
       "Cases2003    0\n",
       "Cases2004    0\n",
       "Cases2005    0\n",
       "Cases2006    0\n",
       "Cases2007    0\n",
       "Cases2008    0\n",
       "Cases2009    0\n",
       "Cases2010    0\n",
       "Cases2011    0\n",
       "Cases2012    0\n",
       "Cases2013    0\n",
       "Cases2014    0\n",
       "Cases2015    0\n",
       "Cases2016    0\n",
       "Cases2017    0\n",
       "Cases2018    0\n",
       "dtype: int64"
      ]
     },
     "execution_count": 16,
     "metadata": {},
     "output_type": "execute_result"
    }
   ],
   "source": [
    "county.isnull().sum()"
   ]
  },
  {
   "cell_type": "code",
   "execution_count": 17,
   "metadata": {},
   "outputs": [
    {
     "data": {
      "text/plain": [
       "Disease       0\n",
       "Case Count    0\n",
       "Rate          0\n",
       "dtype: int64"
      ]
     },
     "execution_count": 17,
     "metadata": {},
     "output_type": "execute_result"
    }
   ],
   "source": [
    "annualreported.isnull().sum()"
   ]
  },
  {
   "cell_type": "markdown",
   "metadata": {},
   "source": [
    "as we look at the reported cases, it appears that data was not recorded for years until the cases of 2018"
   ]
  },
  {
   "cell_type": "code",
   "execution_count": 18,
   "metadata": {},
   "outputs": [
    {
     "data": {
      "text/html": [
       "<div>\n",
       "<style scoped>\n",
       "    .dataframe tbody tr th:only-of-type {\n",
       "        vertical-align: middle;\n",
       "    }\n",
       "\n",
       "    .dataframe tbody tr th {\n",
       "        vertical-align: top;\n",
       "    }\n",
       "\n",
       "    .dataframe thead th {\n",
       "        text-align: right;\n",
       "    }\n",
       "</style>\n",
       "<table border=\"1\" class=\"dataframe\">\n",
       "  <thead>\n",
       "    <tr style=\"text-align: right;\">\n",
       "      <th></th>\n",
       "      <th>Disease</th>\n",
       "      <th>&lt;1 yr, No.</th>\n",
       "      <th>&lt;1 yr, Rate</th>\n",
       "      <th>1-4 yrs, No.</th>\n",
       "      <th>1-4 yrs, Rate</th>\n",
       "      <th>5-14 yrs, No.</th>\n",
       "      <th>5-14 yrs, Rate</th>\n",
       "      <th>15-24 yrs, No.</th>\n",
       "      <th>15-24 yrs, Rate</th>\n",
       "      <th>25-39 yrs, No.</th>\n",
       "      <th>25-39 yrs, Rate</th>\n",
       "      <th>40-64 yrs, No.</th>\n",
       "      <th>40-64 yrs, Rate</th>\n",
       "      <th>&gt;=65 yrs, No.</th>\n",
       "      <th>&gt;=65 yrs, Rate</th>\n",
       "      <th>Age not stated, No.</th>\n",
       "      <th>Total, No.</th>\n",
       "    </tr>\n",
       "  </thead>\n",
       "  <tbody>\n",
       "    <tr>\n",
       "      <th>count</th>\n",
       "      <td>135</td>\n",
       "      <td>135</td>\n",
       "      <td>135</td>\n",
       "      <td>135</td>\n",
       "      <td>135</td>\n",
       "      <td>135</td>\n",
       "      <td>135</td>\n",
       "      <td>135</td>\n",
       "      <td>135</td>\n",
       "      <td>135</td>\n",
       "      <td>135</td>\n",
       "      <td>135</td>\n",
       "      <td>135</td>\n",
       "      <td>135</td>\n",
       "      <td>135</td>\n",
       "      <td>135</td>\n",
       "      <td>135</td>\n",
       "    </tr>\n",
       "    <tr>\n",
       "      <th>unique</th>\n",
       "      <td>135</td>\n",
       "      <td>49</td>\n",
       "      <td>52</td>\n",
       "      <td>53</td>\n",
       "      <td>49</td>\n",
       "      <td>60</td>\n",
       "      <td>44</td>\n",
       "      <td>68</td>\n",
       "      <td>55</td>\n",
       "      <td>76</td>\n",
       "      <td>53</td>\n",
       "      <td>79</td>\n",
       "      <td>57</td>\n",
       "      <td>75</td>\n",
       "      <td>54</td>\n",
       "      <td>28</td>\n",
       "      <td>103</td>\n",
       "    </tr>\n",
       "    <tr>\n",
       "      <th>top</th>\n",
       "      <td>Ehrlichiosis and Anaplasmosis, Ehrlichia ewing...</td>\n",
       "      <td>0</td>\n",
       "      <td>0</td>\n",
       "      <td>0</td>\n",
       "      <td>0</td>\n",
       "      <td>0</td>\n",
       "      <td>0</td>\n",
       "      <td>0</td>\n",
       "      <td>0</td>\n",
       "      <td>0</td>\n",
       "      <td>0</td>\n",
       "      <td>0</td>\n",
       "      <td>0</td>\n",
       "      <td>0</td>\n",
       "      <td>0</td>\n",
       "      <td>0</td>\n",
       "      <td>0</td>\n",
       "    </tr>\n",
       "    <tr>\n",
       "      <th>freq</th>\n",
       "      <td>1</td>\n",
       "      <td>62</td>\n",
       "      <td>62</td>\n",
       "      <td>58</td>\n",
       "      <td>58</td>\n",
       "      <td>49</td>\n",
       "      <td>67</td>\n",
       "      <td>46</td>\n",
       "      <td>58</td>\n",
       "      <td>44</td>\n",
       "      <td>53</td>\n",
       "      <td>40</td>\n",
       "      <td>53</td>\n",
       "      <td>48</td>\n",
       "      <td>52</td>\n",
       "      <td>92</td>\n",
       "      <td>20</td>\n",
       "    </tr>\n",
       "  </tbody>\n",
       "</table>\n",
       "</div>"
      ],
      "text/plain": [
       "                                                  Disease <1 yr, No.  \\\n",
       "count                                                 135        135   \n",
       "unique                                                135         49   \n",
       "top     Ehrlichiosis and Anaplasmosis, Ehrlichia ewing...          0   \n",
       "freq                                                    1         62   \n",
       "\n",
       "       <1 yr, Rate 1-4 yrs, No. 1-4 yrs, Rate 5-14 yrs, No. 5-14 yrs, Rate  \\\n",
       "count          135          135           135           135            135   \n",
       "unique          52           53            49            60             44   \n",
       "top              0            0             0             0              0   \n",
       "freq            62           58            58            49             67   \n",
       "\n",
       "       15-24 yrs, No. 15-24 yrs, Rate 25-39 yrs, No. 25-39 yrs, Rate  \\\n",
       "count             135             135            135             135   \n",
       "unique             68              55             76              53   \n",
       "top                 0               0              0               0   \n",
       "freq               46              58             44              53   \n",
       "\n",
       "       40-64 yrs, No. 40-64 yrs, Rate >=65 yrs, No. >=65 yrs, Rate  \\\n",
       "count             135             135           135            135   \n",
       "unique             79              57            75             54   \n",
       "top                 0               0             0              0   \n",
       "freq               40              53            48             52   \n",
       "\n",
       "       Age not stated, No. Total, No.  \n",
       "count                  135        135  \n",
       "unique                  28        103  \n",
       "top                      0          0  \n",
       "freq                    92         20  "
      ]
     },
     "execution_count": 18,
     "metadata": {},
     "output_type": "execute_result"
    }
   ],
   "source": [
    "age.describe()"
   ]
  },
  {
   "cell_type": "markdown",
   "metadata": {},
   "source": [
    "ld case count for 2018 in the annual reported cases was 33,666,confirmed amount of the that was 23,558\n",
    "and lastly 10,108 are probable cases.(probable cases are possiby due to the inaccuracy doctors go through diagnosing tick bites that do not coincide with other common tick bites in addition to spider bites."
   ]
  },
  {
   "cell_type": "code",
   "execution_count": 19,
   "metadata": {},
   "outputs": [
    {
     "data": {
      "text/html": [
       "<div>\n",
       "<style scoped>\n",
       "    .dataframe tbody tr th:only-of-type {\n",
       "        vertical-align: middle;\n",
       "    }\n",
       "\n",
       "    .dataframe tbody tr th {\n",
       "        vertical-align: top;\n",
       "    }\n",
       "\n",
       "    .dataframe thead th {\n",
       "        text-align: right;\n",
       "    }\n",
       "</style>\n",
       "<table border=\"1\" class=\"dataframe\">\n",
       "  <thead>\n",
       "    <tr style=\"text-align: right;\">\n",
       "      <th></th>\n",
       "      <th>Rate</th>\n",
       "    </tr>\n",
       "  </thead>\n",
       "  <tbody>\n",
       "    <tr>\n",
       "      <th>count</th>\n",
       "      <td>136.000000</td>\n",
       "    </tr>\n",
       "    <tr>\n",
       "      <th>mean</th>\n",
       "      <td>7.153309</td>\n",
       "    </tr>\n",
       "    <tr>\n",
       "      <th>std</th>\n",
       "      <td>48.528788</td>\n",
       "    </tr>\n",
       "    <tr>\n",
       "      <th>min</th>\n",
       "      <td>0.000000</td>\n",
       "    </tr>\n",
       "    <tr>\n",
       "      <th>25%</th>\n",
       "      <td>0.000000</td>\n",
       "    </tr>\n",
       "    <tr>\n",
       "      <th>50%</th>\n",
       "      <td>0.070000</td>\n",
       "    </tr>\n",
       "    <tr>\n",
       "      <th>75%</th>\n",
       "      <td>1.132500</td>\n",
       "    </tr>\n",
       "    <tr>\n",
       "      <th>max</th>\n",
       "      <td>537.540000</td>\n",
       "    </tr>\n",
       "  </tbody>\n",
       "</table>\n",
       "</div>"
      ],
      "text/plain": [
       "             Rate\n",
       "count  136.000000\n",
       "mean     7.153309\n",
       "std     48.528788\n",
       "min      0.000000\n",
       "25%      0.000000\n",
       "50%      0.070000\n",
       "75%      1.132500\n",
       "max    537.540000"
      ]
     },
     "execution_count": 19,
     "metadata": {},
     "output_type": "execute_result"
    }
   ],
   "source": [
    "annualreported.describe()"
   ]
  },
  {
   "cell_type": "code",
   "execution_count": 20,
   "metadata": {
    "scrolled": true
   },
   "outputs": [
    {
     "data": {
      "text/html": [
       "<div>\n",
       "<style scoped>\n",
       "    .dataframe tbody tr th:only-of-type {\n",
       "        vertical-align: middle;\n",
       "    }\n",
       "\n",
       "    .dataframe tbody tr th {\n",
       "        vertical-align: top;\n",
       "    }\n",
       "\n",
       "    .dataframe thead th {\n",
       "        text-align: right;\n",
       "    }\n",
       "</style>\n",
       "<table border=\"1\" class=\"dataframe\">\n",
       "  <thead>\n",
       "    <tr style=\"text-align: right;\">\n",
       "      <th></th>\n",
       "      <th>STCODE</th>\n",
       "      <th>CTYCODE</th>\n",
       "      <th>Cases2000</th>\n",
       "      <th>Cases2001</th>\n",
       "      <th>Cases2002</th>\n",
       "      <th>Cases2003</th>\n",
       "      <th>Cases2004</th>\n",
       "      <th>Cases2005</th>\n",
       "      <th>Cases2006</th>\n",
       "      <th>Cases2007</th>\n",
       "      <th>...</th>\n",
       "      <th>Cases2009</th>\n",
       "      <th>Cases2010</th>\n",
       "      <th>Cases2011</th>\n",
       "      <th>Cases2012</th>\n",
       "      <th>Cases2013</th>\n",
       "      <th>Cases2014</th>\n",
       "      <th>Cases2015</th>\n",
       "      <th>Cases2016</th>\n",
       "      <th>Cases2017</th>\n",
       "      <th>Cases2018</th>\n",
       "    </tr>\n",
       "  </thead>\n",
       "  <tbody>\n",
       "    <tr>\n",
       "      <th>count</th>\n",
       "      <td>3193.000000</td>\n",
       "      <td>3193.000000</td>\n",
       "      <td>3193.000000</td>\n",
       "      <td>3193.000000</td>\n",
       "      <td>3193.000000</td>\n",
       "      <td>3193.000000</td>\n",
       "      <td>3193.000000</td>\n",
       "      <td>3193.000000</td>\n",
       "      <td>3193.000000</td>\n",
       "      <td>3193.000000</td>\n",
       "      <td>...</td>\n",
       "      <td>3193.000000</td>\n",
       "      <td>3193.000000</td>\n",
       "      <td>3193.000000</td>\n",
       "      <td>3193.000000</td>\n",
       "      <td>3193.000000</td>\n",
       "      <td>3193.000000</td>\n",
       "      <td>3193.000000</td>\n",
       "      <td>3193.000000</td>\n",
       "      <td>3193.000000</td>\n",
       "      <td>3193.000000</td>\n",
       "    </tr>\n",
       "    <tr>\n",
       "      <th>mean</th>\n",
       "      <td>30.271531</td>\n",
       "      <td>117.723458</td>\n",
       "      <td>5.552772</td>\n",
       "      <td>5.333229</td>\n",
       "      <td>7.442217</td>\n",
       "      <td>6.662386</td>\n",
       "      <td>6.202318</td>\n",
       "      <td>7.298779</td>\n",
       "      <td>6.242092</td>\n",
       "      <td>8.595052</td>\n",
       "      <td>...</td>\n",
       "      <td>12.047604</td>\n",
       "      <td>9.445036</td>\n",
       "      <td>10.365487</td>\n",
       "      <td>9.655810</td>\n",
       "      <td>11.370811</td>\n",
       "      <td>10.479486</td>\n",
       "      <td>11.922643</td>\n",
       "      <td>11.409020</td>\n",
       "      <td>13.386470</td>\n",
       "      <td>10.543689</td>\n",
       "    </tr>\n",
       "    <tr>\n",
       "      <th>std</th>\n",
       "      <td>15.154505</td>\n",
       "      <td>154.359694</td>\n",
       "      <td>46.655248</td>\n",
       "      <td>44.844885</td>\n",
       "      <td>58.493701</td>\n",
       "      <td>50.339661</td>\n",
       "      <td>40.588239</td>\n",
       "      <td>47.133253</td>\n",
       "      <td>36.689776</td>\n",
       "      <td>45.856932</td>\n",
       "      <td>...</td>\n",
       "      <td>64.658116</td>\n",
       "      <td>48.863014</td>\n",
       "      <td>50.668812</td>\n",
       "      <td>51.169312</td>\n",
       "      <td>51.554783</td>\n",
       "      <td>50.277105</td>\n",
       "      <td>51.309353</td>\n",
       "      <td>46.564108</td>\n",
       "      <td>51.941875</td>\n",
       "      <td>45.313825</td>\n",
       "    </tr>\n",
       "    <tr>\n",
       "      <th>min</th>\n",
       "      <td>1.000000</td>\n",
       "      <td>1.000000</td>\n",
       "      <td>0.000000</td>\n",
       "      <td>0.000000</td>\n",
       "      <td>0.000000</td>\n",
       "      <td>0.000000</td>\n",
       "      <td>0.000000</td>\n",
       "      <td>0.000000</td>\n",
       "      <td>0.000000</td>\n",
       "      <td>0.000000</td>\n",
       "      <td>...</td>\n",
       "      <td>0.000000</td>\n",
       "      <td>0.000000</td>\n",
       "      <td>0.000000</td>\n",
       "      <td>0.000000</td>\n",
       "      <td>0.000000</td>\n",
       "      <td>0.000000</td>\n",
       "      <td>0.000000</td>\n",
       "      <td>0.000000</td>\n",
       "      <td>0.000000</td>\n",
       "      <td>0.000000</td>\n",
       "    </tr>\n",
       "    <tr>\n",
       "      <th>25%</th>\n",
       "      <td>18.000000</td>\n",
       "      <td>35.000000</td>\n",
       "      <td>0.000000</td>\n",
       "      <td>0.000000</td>\n",
       "      <td>0.000000</td>\n",
       "      <td>0.000000</td>\n",
       "      <td>0.000000</td>\n",
       "      <td>0.000000</td>\n",
       "      <td>0.000000</td>\n",
       "      <td>0.000000</td>\n",
       "      <td>...</td>\n",
       "      <td>0.000000</td>\n",
       "      <td>0.000000</td>\n",
       "      <td>0.000000</td>\n",
       "      <td>0.000000</td>\n",
       "      <td>0.000000</td>\n",
       "      <td>0.000000</td>\n",
       "      <td>0.000000</td>\n",
       "      <td>0.000000</td>\n",
       "      <td>0.000000</td>\n",
       "      <td>0.000000</td>\n",
       "    </tr>\n",
       "    <tr>\n",
       "      <th>50%</th>\n",
       "      <td>29.000000</td>\n",
       "      <td>81.000000</td>\n",
       "      <td>0.000000</td>\n",
       "      <td>0.000000</td>\n",
       "      <td>0.000000</td>\n",
       "      <td>0.000000</td>\n",
       "      <td>0.000000</td>\n",
       "      <td>0.000000</td>\n",
       "      <td>0.000000</td>\n",
       "      <td>0.000000</td>\n",
       "      <td>...</td>\n",
       "      <td>0.000000</td>\n",
       "      <td>0.000000</td>\n",
       "      <td>0.000000</td>\n",
       "      <td>0.000000</td>\n",
       "      <td>0.000000</td>\n",
       "      <td>0.000000</td>\n",
       "      <td>0.000000</td>\n",
       "      <td>0.000000</td>\n",
       "      <td>0.000000</td>\n",
       "      <td>0.000000</td>\n",
       "    </tr>\n",
       "    <tr>\n",
       "      <th>75%</th>\n",
       "      <td>45.000000</td>\n",
       "      <td>137.000000</td>\n",
       "      <td>0.000000</td>\n",
       "      <td>0.000000</td>\n",
       "      <td>0.000000</td>\n",
       "      <td>0.000000</td>\n",
       "      <td>0.000000</td>\n",
       "      <td>0.000000</td>\n",
       "      <td>0.000000</td>\n",
       "      <td>1.000000</td>\n",
       "      <td>...</td>\n",
       "      <td>1.000000</td>\n",
       "      <td>1.000000</td>\n",
       "      <td>1.000000</td>\n",
       "      <td>1.000000</td>\n",
       "      <td>1.000000</td>\n",
       "      <td>1.000000</td>\n",
       "      <td>1.000000</td>\n",
       "      <td>1.000000</td>\n",
       "      <td>2.000000</td>\n",
       "      <td>1.000000</td>\n",
       "    </tr>\n",
       "    <tr>\n",
       "      <th>max</th>\n",
       "      <td>56.000000</td>\n",
       "      <td>999.000000</td>\n",
       "      <td>1342.000000</td>\n",
       "      <td>1146.000000</td>\n",
       "      <td>1720.000000</td>\n",
       "      <td>1283.000000</td>\n",
       "      <td>1076.000000</td>\n",
       "      <td>1398.000000</td>\n",
       "      <td>930.000000</td>\n",
       "      <td>704.000000</td>\n",
       "      <td>...</td>\n",
       "      <td>1126.000000</td>\n",
       "      <td>1448.000000</td>\n",
       "      <td>1432.000000</td>\n",
       "      <td>1402.000000</td>\n",
       "      <td>936.000000</td>\n",
       "      <td>1023.000000</td>\n",
       "      <td>704.000000</td>\n",
       "      <td>641.000000</td>\n",
       "      <td>658.000000</td>\n",
       "      <td>678.000000</td>\n",
       "    </tr>\n",
       "  </tbody>\n",
       "</table>\n",
       "<p>8 rows × 21 columns</p>\n",
       "</div>"
      ],
      "text/plain": [
       "            STCODE      CTYCODE    Cases2000    Cases2001    Cases2002  \\\n",
       "count  3193.000000  3193.000000  3193.000000  3193.000000  3193.000000   \n",
       "mean     30.271531   117.723458     5.552772     5.333229     7.442217   \n",
       "std      15.154505   154.359694    46.655248    44.844885    58.493701   \n",
       "min       1.000000     1.000000     0.000000     0.000000     0.000000   \n",
       "25%      18.000000    35.000000     0.000000     0.000000     0.000000   \n",
       "50%      29.000000    81.000000     0.000000     0.000000     0.000000   \n",
       "75%      45.000000   137.000000     0.000000     0.000000     0.000000   \n",
       "max      56.000000   999.000000  1342.000000  1146.000000  1720.000000   \n",
       "\n",
       "         Cases2003    Cases2004    Cases2005    Cases2006    Cases2007  ...  \\\n",
       "count  3193.000000  3193.000000  3193.000000  3193.000000  3193.000000  ...   \n",
       "mean      6.662386     6.202318     7.298779     6.242092     8.595052  ...   \n",
       "std      50.339661    40.588239    47.133253    36.689776    45.856932  ...   \n",
       "min       0.000000     0.000000     0.000000     0.000000     0.000000  ...   \n",
       "25%       0.000000     0.000000     0.000000     0.000000     0.000000  ...   \n",
       "50%       0.000000     0.000000     0.000000     0.000000     0.000000  ...   \n",
       "75%       0.000000     0.000000     0.000000     0.000000     1.000000  ...   \n",
       "max    1283.000000  1076.000000  1398.000000   930.000000   704.000000  ...   \n",
       "\n",
       "         Cases2009    Cases2010    Cases2011    Cases2012    Cases2013  \\\n",
       "count  3193.000000  3193.000000  3193.000000  3193.000000  3193.000000   \n",
       "mean     12.047604     9.445036    10.365487     9.655810    11.370811   \n",
       "std      64.658116    48.863014    50.668812    51.169312    51.554783   \n",
       "min       0.000000     0.000000     0.000000     0.000000     0.000000   \n",
       "25%       0.000000     0.000000     0.000000     0.000000     0.000000   \n",
       "50%       0.000000     0.000000     0.000000     0.000000     0.000000   \n",
       "75%       1.000000     1.000000     1.000000     1.000000     1.000000   \n",
       "max    1126.000000  1448.000000  1432.000000  1402.000000   936.000000   \n",
       "\n",
       "         Cases2014    Cases2015    Cases2016    Cases2017    Cases2018  \n",
       "count  3193.000000  3193.000000  3193.000000  3193.000000  3193.000000  \n",
       "mean     10.479486    11.922643    11.409020    13.386470    10.543689  \n",
       "std      50.277105    51.309353    46.564108    51.941875    45.313825  \n",
       "min       0.000000     0.000000     0.000000     0.000000     0.000000  \n",
       "25%       0.000000     0.000000     0.000000     0.000000     0.000000  \n",
       "50%       0.000000     0.000000     0.000000     0.000000     0.000000  \n",
       "75%       1.000000     1.000000     1.000000     2.000000     1.000000  \n",
       "max    1023.000000   704.000000   641.000000   658.000000   678.000000  \n",
       "\n",
       "[8 rows x 21 columns]"
      ]
     },
     "execution_count": 20,
     "metadata": {},
     "output_type": "execute_result"
    }
   ],
   "source": [
    "county.describe()"
   ]
  },
  {
   "cell_type": "code",
   "execution_count": 23,
   "metadata": {},
   "outputs": [
    {
     "data": {
      "text/plain": [
       "Index(['Disease', '<1 yr, No.', '<1 yr, Rate', '1-4 yrs, No.', '1-4 yrs, Rate',\n",
       "       '5-14 yrs, No.', '5-14 yrs, Rate', '15-24 yrs, No.', '15-24 yrs, Rate',\n",
       "       '25-39 yrs, No.', '25-39 yrs, Rate', '40-64 yrs, No.',\n",
       "       '40-64 yrs, Rate', '>=65 yrs, No.', '>=65 yrs, Rate',\n",
       "       'Age not stated, No.', 'Total, No.'],\n",
       "      dtype='object')"
      ]
     },
     "execution_count": 23,
     "metadata": {},
     "output_type": "execute_result"
    }
   ],
   "source": [
    "age.columns"
   ]
  },
  {
   "cell_type": "code",
   "execution_count": 34,
   "metadata": {},
   "outputs": [
    {
     "data": {
      "text/html": [
       "<div>\n",
       "<style scoped>\n",
       "    .dataframe tbody tr th:only-of-type {\n",
       "        vertical-align: middle;\n",
       "    }\n",
       "\n",
       "    .dataframe tbody tr th {\n",
       "        vertical-align: top;\n",
       "    }\n",
       "\n",
       "    .dataframe thead th {\n",
       "        text-align: right;\n",
       "    }\n",
       "</style>\n",
       "<table border=\"1\" class=\"dataframe\">\n",
       "  <thead>\n",
       "    <tr style=\"text-align: right;\">\n",
       "      <th></th>\n",
       "      <th>Disease</th>\n",
       "      <th>&lt;1 yr, No.</th>\n",
       "      <th>&lt;1 yr, Rate</th>\n",
       "      <th>1-4 yrs, No.</th>\n",
       "      <th>1-4 yrs, Rate</th>\n",
       "      <th>5-14 yrs, No.</th>\n",
       "      <th>5-14 yrs, Rate</th>\n",
       "      <th>15-24 yrs, No.</th>\n",
       "      <th>15-24 yrs, Rate</th>\n",
       "      <th>25-39 yrs, No.</th>\n",
       "      <th>25-39 yrs, Rate</th>\n",
       "      <th>40-64 yrs, No.</th>\n",
       "      <th>40-64 yrs, Rate</th>\n",
       "      <th>&gt;=65 yrs, No.</th>\n",
       "      <th>&gt;=65 yrs, Rate</th>\n",
       "      <th>Age not stated, No.</th>\n",
       "      <th>Total, No.</th>\n",
       "    </tr>\n",
       "  </thead>\n",
       "  <tbody>\n",
       "    <tr>\n",
       "      <th>70</th>\n",
       "      <td>Lyme disease, Total</td>\n",
       "      <td>27</td>\n",
       "      <td>0.7</td>\n",
       "      <td>1,149</td>\n",
       "      <td>7.23</td>\n",
       "      <td>5,089</td>\n",
       "      <td>12.44</td>\n",
       "      <td>2,938</td>\n",
       "      <td>6.86</td>\n",
       "      <td>4,337</td>\n",
       "      <td>6.48</td>\n",
       "      <td>11,738</td>\n",
       "      <td>11.38</td>\n",
       "      <td>8,339</td>\n",
       "      <td>15.98</td>\n",
       "      <td>49</td>\n",
       "      <td>33,666</td>\n",
       "    </tr>\n",
       "    <tr>\n",
       "      <th>71</th>\n",
       "      <td>Lyme disease, Confirmed</td>\n",
       "      <td>20</td>\n",
       "      <td>0.52</td>\n",
       "      <td>966</td>\n",
       "      <td>6.08</td>\n",
       "      <td>3,925</td>\n",
       "      <td>9.6</td>\n",
       "      <td>1,893</td>\n",
       "      <td>4.42</td>\n",
       "      <td>2,908</td>\n",
       "      <td>4.34</td>\n",
       "      <td>8,272</td>\n",
       "      <td>8.02</td>\n",
       "      <td>5,540</td>\n",
       "      <td>10.62</td>\n",
       "      <td>34</td>\n",
       "      <td>23,558</td>\n",
       "    </tr>\n",
       "    <tr>\n",
       "      <th>72</th>\n",
       "      <td>Lyme disease, Probable</td>\n",
       "      <td>7</td>\n",
       "      <td>0.18</td>\n",
       "      <td>183</td>\n",
       "      <td>1.15</td>\n",
       "      <td>1,164</td>\n",
       "      <td>2.85</td>\n",
       "      <td>1,045</td>\n",
       "      <td>2.44</td>\n",
       "      <td>1,429</td>\n",
       "      <td>2.13</td>\n",
       "      <td>3,466</td>\n",
       "      <td>3.36</td>\n",
       "      <td>2,799</td>\n",
       "      <td>5.37</td>\n",
       "      <td>15</td>\n",
       "      <td>10,108</td>\n",
       "    </tr>\n",
       "  </tbody>\n",
       "</table>\n",
       "</div>"
      ],
      "text/plain": [
       "                     Disease <1 yr, No. <1 yr, Rate 1-4 yrs, No.  \\\n",
       "70      Lyme disease, Total          27         0.7        1,149   \n",
       "71  Lyme disease, Confirmed          20        0.52          966   \n",
       "72   Lyme disease, Probable           7        0.18          183   \n",
       "\n",
       "   1-4 yrs, Rate 5-14 yrs, No. 5-14 yrs, Rate 15-24 yrs, No. 15-24 yrs, Rate  \\\n",
       "70          7.23         5,089          12.44          2,938            6.86   \n",
       "71          6.08         3,925            9.6          1,893            4.42   \n",
       "72          1.15         1,164           2.85          1,045            2.44   \n",
       "\n",
       "   25-39 yrs, No. 25-39 yrs, Rate 40-64 yrs, No. 40-64 yrs, Rate  \\\n",
       "70          4,337            6.48         11,738           11.38   \n",
       "71          2,908            4.34          8,272            8.02   \n",
       "72          1,429            2.13          3,466            3.36   \n",
       "\n",
       "   >=65 yrs, No. >=65 yrs, Rate Age not stated, No. Total, No.  \n",
       "70         8,339          15.98                  49     33,666  \n",
       "71         5,540          10.62                  34     23,558  \n",
       "72         2,799           5.37                  15     10,108  "
      ]
     },
     "execution_count": 34,
     "metadata": {},
     "output_type": "execute_result"
    }
   ],
   "source": [
    "age.iloc[[70,71,72]]"
   ]
  },
  {
   "cell_type": "markdown",
   "metadata": {},
   "source": [
    "prevalency between age group: 5,089 total amount and 3,925 confirmed for ages 5 to 14. additionally the elder over 65 total is 8,339 and 5,540 confirmed cases. this brings me to see that lyme disease is most prevalent ages 5-14 and over age 65. they are the most likely to contract lyme disease."
   ]
  },
  {
   "cell_type": "code",
   "execution_count": 45,
   "metadata": {
    "scrolled": false
   },
   "outputs": [
    {
     "data": {
      "text/html": [
       "<div>\n",
       "<style scoped>\n",
       "    .dataframe tbody tr th:only-of-type {\n",
       "        vertical-align: middle;\n",
       "    }\n",
       "\n",
       "    .dataframe tbody tr th {\n",
       "        vertical-align: top;\n",
       "    }\n",
       "\n",
       "    .dataframe thead th {\n",
       "        text-align: right;\n",
       "    }\n",
       "</style>\n",
       "<table border=\"1\" class=\"dataframe\">\n",
       "  <thead>\n",
       "    <tr style=\"text-align: right;\">\n",
       "      <th></th>\n",
       "      <th>Disease</th>\n",
       "      <th>Case Count</th>\n",
       "      <th>Rate</th>\n",
       "    </tr>\n",
       "  </thead>\n",
       "  <tbody>\n",
       "    <tr>\n",
       "      <th>70</th>\n",
       "      <td>Lyme disease, Total</td>\n",
       "      <td>33,666</td>\n",
       "      <td>10.34</td>\n",
       "    </tr>\n",
       "    <tr>\n",
       "      <th>71</th>\n",
       "      <td>Lyme disease, Confirmed</td>\n",
       "      <td>23,558</td>\n",
       "      <td>7.23</td>\n",
       "    </tr>\n",
       "    <tr>\n",
       "      <th>72</th>\n",
       "      <td>Lyme disease, Probable</td>\n",
       "      <td>10,108</td>\n",
       "      <td>3.10</td>\n",
       "    </tr>\n",
       "  </tbody>\n",
       "</table>\n",
       "</div>"
      ],
      "text/plain": [
       "                     Disease Case Count   Rate\n",
       "70      Lyme disease, Total      33,666  10.34\n",
       "71  Lyme disease, Confirmed      23,558   7.23\n",
       "72   Lyme disease, Probable      10,108   3.10"
      ]
     },
     "execution_count": 45,
     "metadata": {},
     "output_type": "execute_result"
    }
   ],
   "source": [
    "annualreported.iloc[[70,71,72]]"
   ]
  },
  {
   "cell_type": "code",
   "execution_count": 44,
   "metadata": {},
   "outputs": [
    {
     "data": {
      "text/plain": [
       "STCODE        30.271531\n",
       "CTYCODE      117.723458\n",
       "Cases2000      5.552772\n",
       "Cases2001      5.333229\n",
       "Cases2002      7.442217\n",
       "Cases2003      6.662386\n",
       "Cases2004      6.202318\n",
       "Cases2005      7.298779\n",
       "Cases2006      6.242092\n",
       "Cases2007      8.595052\n",
       "Cases2008     11.023489\n",
       "Cases2009     12.047604\n",
       "Cases2010      9.445036\n",
       "Cases2011     10.365487\n",
       "Cases2012      9.655810\n",
       "Cases2013     11.370811\n",
       "Cases2014     10.479486\n",
       "Cases2015     11.922643\n",
       "Cases2016     11.409020\n",
       "Cases2017     13.386470\n",
       "Cases2018     10.543689\n",
       "dtype: float64"
      ]
     },
     "execution_count": 44,
     "metadata": {},
     "output_type": "execute_result"
    }
   ],
   "source": [
    "county.mean()"
   ]
  },
  {
   "cell_type": "markdown",
   "metadata": {},
   "source": [
    "histogram of cases by county in 2018 "
   ]
  },
  {
   "cell_type": "code",
   "execution_count": 37,
   "metadata": {
    "scrolled": true
   },
   "outputs": [
    {
     "data": {
      "text/plain": [
       "<matplotlib.axes._subplots.AxesSubplot at 0x27c7b12d6c8>"
      ]
     },
     "execution_count": 37,
     "metadata": {},
     "output_type": "execute_result"
    },
    {
     "data": {
      "image/png": "[encoded data removed]",
      "text/plain": [
       "<Figure size 432x288 with 1 Axes>"
      ]
     },
     "metadata": {
      "needs_background": "light"
     },
     "output_type": "display_data"
    }
   ],
   "source": [
    "county['Cases2018'].hist(bins=10)\n"
   ]
  },
  {
   "cell_type": "code",
   "execution_count": 38,
   "metadata": {},
   "outputs": [
    {
     "data": {
      "text/plain": [
       "<matplotlib.axes._subplots.AxesSubplot at 0x27c7b8ac948>"
      ]
     },
     "execution_count": 38,
     "metadata": {},
     "output_type": "execute_result"
    },
    {
     "data": {
      "image/png": "[encoded data removed]",
      "text/plain": [
       "<Figure size 432x288 with 1 Axes>"
      ]
     },
     "metadata": {
      "needs_background": "light"
     },
     "output_type": "display_data"
    }
   ],
   "source": [
    "county['Cases2000'].hist(bins=10)"
   ]
  },
  {
   "cell_type": "markdown",
   "metadata": {},
   "source": [
    "histogram of cases by county in 2000"
   ]
  },
  {
   "cell_type": "markdown",
   "metadata": {},
   "source": [
    "the comparison from 2000 to 2018 shows an increase in 2018 than it did in 2000 by county"
   ]
  },
  {
   "cell_type": "code",
   "execution_count": 39,
   "metadata": {},
   "outputs": [
    {
     "data": {
      "text/plain": [
       "730"
      ]
     },
     "execution_count": 39,
     "metadata": {},
     "output_type": "execute_result"
    }
   ],
   "source": [
    "np.sum(county['Cases2000'] > 0)"
   ]
  },
  {
   "cell_type": "code",
   "execution_count": 42,
   "metadata": {},
   "outputs": [
    {
     "data": {
      "text/plain": [
       "2463"
      ]
     },
     "execution_count": 42,
     "metadata": {},
     "output_type": "execute_result"
    }
   ],
   "source": [
    "np.sum(county['Cases2000'] == 0)"
   ]
  },
  {
   "cell_type": "code",
   "execution_count": 41,
   "metadata": {},
   "outputs": [
    {
     "data": {
      "image/png": "[encoded data removed]",
      "text/plain": [
       "<Figure size 360x360 with 1 Axes>"
      ]
     },
     "metadata": {
      "needs_background": "light"
     },
     "output_type": "display_data"
    }
   ],
   "source": [
    "sns.relplot(x=\"Stname\", y=\"Cases2018\", data=county);"
   ]
  },
  {
   "cell_type": "code",
   "execution_count": null,
   "metadata": {},
   "outputs": [],
   "source": []
  }
 ],
 "metadata": {
  "kernelspec": {
   "display_name": "Python 3",
   "language": "python",
   "name": "python3"
  },
  "language_info": {
   "codemirror_mode": {
    "name": "ipython",
    "version": 3
   },
   "file_extension": ".py",
   "mimetype": "text/x-python",
   "name": "python",
   "nbconvert_exporter": "python",
   "pygments_lexer": "ipython3",
   "version": "3.7.6"
  }
 },
 "nbformat": 4,
 "nbformat_minor": 2
}
